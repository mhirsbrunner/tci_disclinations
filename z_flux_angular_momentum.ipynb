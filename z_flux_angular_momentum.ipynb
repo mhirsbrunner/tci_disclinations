{
 "cells": [
  {
   "cell_type": "code",
   "execution_count": 62,
   "metadata": {},
   "outputs": [
    {
     "data": {
      "text/plain": [
       "<module 'src.disclination' from '/home/mark/Dropbox/VS_Code_Projects/tci_disclinations/src/disclination.py'>"
      ]
     },
     "execution_count": 62,
     "metadata": {},
     "output_type": "execute_result"
    }
   ],
   "source": [
    "import numpy as np\n",
    "from numpy import pi\n",
    "import src.disclination as disc\n",
    "import matplotlib.pyplot as plt\n",
    "from importlib import reload\n",
    "reload(disc)"
   ]
  },
  {
   "cell_type": "code",
   "execution_count": 75,
   "metadata": {},
   "outputs": [],
   "source": [
    "# Parameters\n",
    "nx = 10\n",
    "norb = 8\n",
    "n_tot = norb * nx ** 3\n",
    "\n",
    "mass = 2\n",
    "phs_mass = 2\n",
    "hoti_mass = 0.0\n",
    "\n",
    "flux = 2 * pi\n"
   ]
  },
  {
   "cell_type": "code",
   "execution_count": 76,
   "metadata": {},
   "outputs": [],
   "source": [
    "# Generate C4 symmetric basis\n",
    "rot_op = disc.rotation_matrix(nx)\n",
    "\n",
    "quadrant_states_basis = np.zeros((n_tot, n_tot // 4), dtype=complex)\n",
    "c4_basis = np.zeros((n_tot, n_tot), dtype=complex)\n",
    "\n",
    "for xx in range( nx // 2):\n",
    "    for yy in range( nx // 2):\n",
    "        for zz in range(nx):\n",
    "            for ii in range(norb):\n",
    "                site_ind = ii + xx * norb + yy * nx * norb + zz * nx ** 2 * norb\n",
    "                basis_ind = ii + xx * norb + yy * nx // 2 * norb + zz * nx * nx // 4 * norb\n",
    "                quadrant_states_basis[site_ind, basis_ind] = 1\n",
    "\n",
    "for rr in range(4):\n",
    "    temp = quadrant_states_basis\n",
    "    for mm in range(4):\n",
    "        if mm != 0:\n",
    "            temp = np.exp(1j * rr * pi / 2) * rot_op @ temp\n",
    "        c4_basis[:, rr * n_tot // 4:(rr + 1) * n_tot // 4] += temp / 2"
   ]
  },
  {
   "cell_type": "code",
   "execution_count": 77,
   "metadata": {},
   "outputs": [],
   "source": [
    "# Build Hamiltonian, add flux in a C4 symmetric manner\n",
    "h = disc.defect_free_hamiltonian(nx, mass, phs_mass, hoti_mass)\n",
    "h = np.reshape(h, (nx, nx, nx, norb, nx, nx, nx, norb))\n",
    "\n",
    "phi = 1j * flux / (2 * pi)\n",
    "\n",
    "for zz in range(nx):\n",
    "    for ii in range(nx // 2):\n",
    "        h[zz, ii, nx // 2,     :, zz, ii, nx // 2 - 1, :] *= np.exp(phi / 4)\n",
    "        h[zz, ii, nx // 2 - 1, :, zz, ii, nx // 2,     :] *= np.exp(-phi / 4)\n",
    "\n",
    "        h[zz, ii + nx // 2, nx // 2,     :, zz, ii + nx // 2, nx // 2 - 1, :] *= np.exp(-phi / 4)\n",
    "        h[zz, ii + nx // 2, nx // 2 - 1, :, zz, ii + nx // 2, nx // 2,     :] *= np.exp(phi / 4)\n",
    "        \n",
    "        h[zz, nx // 2,     ii, :, zz, nx // 2 - 1, ii, :] *= np.exp(-phi / 4)\n",
    "        h[zz, nx // 2 - 1, ii, :, zz, nx // 2,     ii, :] *= np.exp(phi / 4)\n",
    "\n",
    "        h[zz, nx // 2,     ii + nx // 2, :, zz, nx // 2 - 1, ii + nx // 2, :] *= np.exp(phi / 4)\n",
    "        h[zz, nx // 2 - 1, ii + nx // 2, :, zz, nx // 2,     ii + nx // 2, :] *= np.exp(-phi / 4)\n",
    "\n",
    "h = np.reshape(h, (norb * nx * nx * nx, norb * nx * nx * nx))"
   ]
  },
  {
   "cell_type": "code",
   "execution_count": 66,
   "metadata": {},
   "outputs": [
    {
     "name": "stdout",
     "output_type": "stream",
     "text": [
      "Commutator maximum value: 3.061616997868383e-17\n"
     ]
    }
   ],
   "source": [
    "# Check for symmetry\n",
    "commutator = rot_op @ h - h @ rot_op\n",
    "print(f'Commutator maximum value: {np.max(np.abs(commutator))}')\n",
    "\n",
    "if not np.isclose(0, np.max(np.abs(commutator))):\n",
    "    plt.imshow(np.abs(commutator))"
   ]
  },
  {
   "cell_type": "code",
   "execution_count": 67,
   "metadata": {},
   "outputs": [
    {
     "name": "stdout",
     "output_type": "stream",
     "text": [
      "Unitarity check (small is good): 1.4854356772469694e-16\n"
     ]
    },
    {
     "data": {
      "image/png": "[encoded data removed]",
      "text/plain": [
       "<Figure size 640x480 with 1 Axes>"
      ]
     },
     "metadata": {},
     "output_type": "display_data"
    }
   ],
   "source": [
    "# plt.imshow(np.abs(c4_basis.conj().T @ c4_basis)[:n_tot // nx, :n_tot // nx])\n",
    "print(f'Unitarity check (small is good): {np.max(np.abs(np.identity(n_tot) - c4_basis.conj().T @ c4_basis))}')\n",
    "\n",
    "print('Plotting C4 eigenvalues')\n",
    "plt.plot(np.angle(np.diag(c4_basis.conj().T @ rot_op @ c4_basis) * np.exp(1j * 1e-14))/ (pi), 'b.')\n",
    "plt.show()"
   ]
  },
  {
   "cell_type": "code",
   "execution_count": 78,
   "metadata": {},
   "outputs": [],
   "source": [
    "# Rotate Hamiltonian into a C4 eigenvalue basis, separate out blocks\n",
    "h_rot = c4_basis.conj().T @ h @ c4_basis\n",
    "n = h_rot.shape[0]\n",
    "h_c4_sectors = [h_rot[ii * n // 4: (ii + 1) * n // 4, ii * n // 4: (ii + 1) * n // 4] for ii in range(4)]"
   ]
  },
  {
   "cell_type": "code",
   "execution_count": 79,
   "metadata": {},
   "outputs": [],
   "source": [
    "# Calculate density in each sector\n",
    "u_c4_sectors = []\n",
    "v_c4_sectors = []\n",
    "\n",
    "for mat in h_c4_sectors:\n",
    "    temp_u, temp_v = np.linalg.eigh(mat)\n",
    "    u_c4_sectors.append(temp_u)\n",
    "    v_c4_sectors.append(temp_v)\n",
    "\n",
    "def calculate_rho(evals, evecs):\n",
    "    rho = np.zeros((nx, nx * nx // 4))\n",
    "\n",
    "    for ii, energy in enumerate(evals):\n",
    "        if energy <= 0:\n",
    "            wf = evecs[:, ii]\n",
    "            prob_density = np.multiply(np.conj(wf), wf)\n",
    "            temp_rho = np.reshape(prob_density, (nx, nx * nx // 4, norb))\n",
    "            rho += np.sum(temp_rho, axis=-1).real\n",
    "\n",
    "    return rho - norb // 2\n",
    "\n",
    "rho_c4_sectors = [calculate_rho(u_c4_sectors[ii], v_c4_sectors[ii]) for ii in range(4)]"
   ]
  },
  {
   "cell_type": "code",
   "execution_count": 82,
   "metadata": {},
   "outputs": [],
   "source": [
    "# Sum charge density over top half of the crystal, calculate bound angular momentum\n",
    "rho_summed_c4_sectors = [np.sum(rho_c4_sectors[ii][:nx//2]) for ii in range(4)]\n",
    "surf_angular_momentum = np.sum([-rr * pi / 2 * rho_summed_c4_sectors[rr] for rr in range(4)])"
   ]
  },
  {
   "cell_type": "code",
   "execution_count": 83,
   "metadata": {},
   "outputs": [
    {
     "data": {
      "text/plain": [
       "0.37035400599260926"
      ]
     },
     "execution_count": 83,
     "metadata": {},
     "output_type": "execute_result"
    }
   ],
   "source": [
    "surf_angular_momentum"
   ]
  }
 ],
 "metadata": {
  "kernelspec": {
   "display_name": "Python 3",
   "language": "python",
   "name": "python3"
  },
  "language_info": {
   "codemirror_mode": {
    "name": "ipython",
    "version": 3
   },
   "file_extension": ".py",
   "mimetype": "text/x-python",
   "name": "python",
   "nbconvert_exporter": "python",
   "pygments_lexer": "ipython3",
   "version": "3.10.6"
  },
  "orig_nbformat": 4,
  "vscode": {
   "interpreter": {
    "hash": "916dbcbb3f70747c44a77c7bcd40155683ae19c65e1c03b4aa3499c5328201f1"
   }
  }
 },
 "nbformat": 4,
 "nbformat_minor": 2
}
